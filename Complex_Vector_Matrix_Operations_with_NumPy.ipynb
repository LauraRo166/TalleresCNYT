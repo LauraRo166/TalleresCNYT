{
 "cells": [
  {
   "cell_type": "markdown",
   "id": "a07bd584",
   "metadata": {},
   "source": [
    "# Theory of Complex Vector Spaces\n",
    "Complex vector spaces extend the idea of real vector spaces by allowing vectors to have complex numbers as their components. In these spaces, vectors can be added together and multiplied by complex scalars to produce new vectors. Key operations in complex vector spaces include vector addition, scalar multiplication, vector negation, and complex conjugation."
   ]
  },
  {
   "cell_type": "markdown",
   "id": "f43fc972-23ab-4d81-aa26-c51325dac8f3",
   "metadata": {},
   "source": [
    "# Creating complex column vectors"
   ]
  },
  {
   "cell_type": "code",
   "execution_count": 36,
   "id": "029f08ba-1cdc-4928-9631-f62c51ab7aa5",
   "metadata": {},
   "outputs": [
    {
     "name": "stdout",
     "output_type": "stream",
     "text": [
      "Matrix:\n",
      " [[2 3]\n",
      " [1 4]]\n",
      "\n",
      "Vector:\n",
      " [5 6]\n",
      "\n",
      "Result of multiplication:\n",
      " [28 29]\n"
     ]
    }
   ],
   "source": [
    "import numpy as np\n",
    "\n",
    "# Define a 2x2 square matrix\n",
    "matrix = np.array([[2, 3],\n",
    "                   [1, 4]])\n",
    "\n",
    "# Define a vector of size 2\n",
    "vector = np.array([5, 6])\n",
    "\n",
    "# Multiply the matrix by the vector\n",
    "result = np.dot(matrix, vector)\n",
    "\n",
    "# Display the result\n",
    "print(\"Matrix:\\n\", matrix)\n",
    "print(\"\\nVector:\\n\", vector)\n",
    "print(\"\\nResult of multiplication:\\n\", result)\n"
   ]
  },
  {
   "cell_type": "markdown",
   "id": "975c2284",
   "metadata": {},
   "source": [
    "## Manipulating Complex Column Vectors using NumPy\n",
    "Here we demonstrate how to manipulate complex column vectors using NumPy, including operations like sum, negation, multiplication by a scalar, transpose, adjunct, and conjugate."
   ]
  },
  {
   "cell_type": "code",
   "execution_count": 38,
   "id": "e8058abe",
   "metadata": {},
   "outputs": [
    {
     "data": {
      "text/plain": [
       "(array([[3.+2.j],\n",
       "        [8.-2.j],\n",
       "        [5.-3.j]]),\n",
       " array([[-2.-3.j],\n",
       "        [-5.+4.j],\n",
       "        [-1.-1.j]]),\n",
       " array([[ 1.+8.j],\n",
       "        [14.-3.j],\n",
       "        [ 1.+3.j]]),\n",
       " array([[2.+3.j, 5.-4.j, 1.+1.j]]),\n",
       " array([[2.-3.j, 5.+4.j, 1.-1.j]]),\n",
       " array([[2.-3.j],\n",
       "        [5.+4.j],\n",
       "        [1.-1.j]]))"
      ]
     },
     "execution_count": 38,
     "metadata": {},
     "output_type": "execute_result"
    }
   ],
   "source": [
    "\n",
    "import numpy as np\n",
    "\n",
    "# Define two complex column vectors\n",
    "v1 = np.array([[2+3j], [5-4j], [1+1j]])\n",
    "v2 = np.array([[1-1j], [3+2j], [4-4j]])\n",
    "\n",
    "# Sum\n",
    "sum_v = v1 + v2\n",
    "\n",
    "# Negation\n",
    "neg_v1 = -v1\n",
    "\n",
    "# Multiplication by a scalar\n",
    "scalar = 2 + 1j\n",
    "mult_v1 = v1 * scalar\n",
    "\n",
    "# Transpose\n",
    "transpose_v1 = v1.T\n",
    "\n",
    "# Adjunct (Conjugate transpose)\n",
    "adjunct_v1 = v1.T.conj()\n",
    "\n",
    "# Conjugate\n",
    "conjugate_v1 = np.conjugate(v1)\n",
    "\n",
    "(sum_v, neg_v1, mult_v1, transpose_v1, adjunct_v1, conjugate_v1)\n"
   ]
  },
  {
   "cell_type": "markdown",
   "id": "995ae5fc",
   "metadata": {},
   "source": [
    "# Theory of Vector Spaces using Matrices\n",
    "In the context of matrices, vector spaces can be defined where each vector is a matrix of a particular size. Operations on these matrix-vector spaces include matrix addition, scalar multiplication, matrix negation, transpose, adjunct, and conjugate. In this section, we focus on square matrices of size 3x3."
   ]
  },
  {
   "cell_type": "markdown",
   "id": "9385c1f0",
   "metadata": {},
   "source": [
    "## Manipulating Square Matrices using NumPy\n",
    "Examples of how to manipulate 3x3 square matrices using NumPy, showing operations such as sum, negation, multiplication by a scalar, conjugate, transpose, and adjunct."
   ]
  },
  {
   "cell_type": "code",
   "execution_count": 40,
   "id": "b81ecc57",
   "metadata": {},
   "outputs": [
    {
     "data": {
      "text/plain": [
       "(array([[3.+3.j, 6.+0.j, 3.-3.j],\n",
       "        [1.+1.j, 2.+5.j, 6.-2.j],\n",
       "        [7.+3.j, 8.-2.j, 5.+3.j]]),\n",
       " array([[-2.-3.j, -4.+1.j, -0.-0.j],\n",
       "        [-1.-1.j, -3.-3.j, -5.-0.j],\n",
       "        [-4.-0.j, -6.+2.j, -1.+1.j]]),\n",
       " array([[-0.5+2.5j,  2.5+1.5j,  0. +0.j ],\n",
       "        [ 0. +1.j ,  0. +3.j ,  2.5+2.5j],\n",
       "        [ 2. +2.j ,  4. +2.j ,  1. +0.j ]]),\n",
       " array([[2.-3.j, 4.+1.j, 0.-0.j],\n",
       "        [1.-1.j, 3.-3.j, 5.-0.j],\n",
       "        [4.-0.j, 6.+2.j, 1.+1.j]]),\n",
       " array([[2.+3.j, 1.+1.j, 4.+0.j],\n",
       "        [4.-1.j, 3.+3.j, 6.-2.j],\n",
       "        [0.+0.j, 5.+0.j, 1.-1.j]]),\n",
       " array([[2.-3.j, 1.-1.j, 4.-0.j],\n",
       "        [4.+1.j, 3.-3.j, 6.+2.j],\n",
       "        [0.-0.j, 5.-0.j, 1.+1.j]]))"
      ]
     },
     "execution_count": 40,
     "metadata": {},
     "output_type": "execute_result"
    }
   ],
   "source": [
    "\n",
    "# Define two 3x3 complex matrices\n",
    "m1 = np.array([[2+3j, 4-1j, 0], \n",
    "               [1+1j, 3+3j, 5], \n",
    "               [4, 6-2j, 1-1j]])\n",
    "m2 = np.array([[1, 2+1j, 3-3j], \n",
    "               [0, -1+2j, 1-2j], \n",
    "               [3+3j, 2, 4+4j]])\n",
    "\n",
    "# Sum\n",
    "sum_m = m1 + m2\n",
    "\n",
    "# Negation\n",
    "neg_m1 = -m1\n",
    "\n",
    "# Multiplication by a scalar\n",
    "scalar = 0.5 + 0.5j\n",
    "mult_m1 = m1 * scalar\n",
    "\n",
    "# Conjugate\n",
    "conjugate_m1 = np.conjugate(m1)\n",
    "\n",
    "# Transpose\n",
    "transpose_m1 = m1.T\n",
    "\n",
    "# Adjunct (Conjugate transpose)\n",
    "adjunct_m1 = m1.T.conj()\n",
    "\n",
    "(sum_m, neg_m1, mult_m1, conjugate_m1, transpose_m1, adjunct_m1)\n"
   ]
  },
  {
   "cell_type": "markdown",
   "id": "ed909545-8a5c-4cca-85f7-48688b597598",
   "metadata": {},
   "source": [
    "## Checking the Dimension of a Matrix\n",
    "We can check the dimension of a matrix using the `.shape` attribute."
   ]
  },
  {
   "cell_type": "code",
   "execution_count": 42,
   "id": "0930dc10-af6d-427f-bbcb-75bfaf051db5",
   "metadata": {},
   "outputs": [
    {
     "data": {
      "text/plain": [
       "(3, 3)"
      ]
     },
     "execution_count": 42,
     "metadata": {},
     "output_type": "execute_result"
    }
   ],
   "source": [
    "# Checking the dimension of matrix1\n",
    "m1.shape"
   ]
  },
  {
   "cell_type": "markdown",
   "id": "b3fe896b",
   "metadata": {},
   "source": [
    "## Action of a Matrix on a Vector\n",
    "Finally, examples of how to use Python to multiply a 3x3 square matrix by a 3x1 column vector."
   ]
  },
  {
   "cell_type": "code",
   "execution_count": 44,
   "id": "e514d047",
   "metadata": {},
   "outputs": [
    {
     "data": {
      "text/plain": [
       "array([[11. -9.j],\n",
       "       [31.+13.j],\n",
       "       [32.-22.j]])"
      ]
     },
     "execution_count": 44,
     "metadata": {},
     "output_type": "execute_result"
    }
   ],
   "source": [
    "\n",
    "# Multiplying a 3x3 matrix by a 3x1 vector\n",
    "result = np.dot(m1, v1)\n",
    "result\n"
   ]
  },
  {
   "cell_type": "markdown",
   "id": "b92b8773-3c0c-4688-a81f-a5882d523db6",
   "metadata": {},
   "source": [
    "# Exercises on Complex Vectors and Matrices with Concrete Cases\n",
    "\n",
    "This set of exercises focuses on operations with complex column vectors and complex square matrices, including concrete cases with vectors and matrices written in LaTeX format.\n",
    "\n",
    "## Instructions\n",
    "For each exercise, ensure to display both the input (vectors/matrices) and the result of the operation.Use NumPy for these exercises to practice handling complex numbers and matrix operations in Python.\n",
    "\n",
    "\n",
    "## Complex Column Vector Operations\n",
    "\n",
    "### Exercise 1: Sum of Two Complex Vectors\n",
    "Given two complex vectors \n",
    "$ v1 = \\begin{bmatrix} 1 + 2i \\\\ 3 - i \\end{bmatrix} $ \n",
    "and \n",
    "$ v2 = \\begin{bmatrix} 2 - i \\\\ 4 + 2i \\end{bmatrix} $, \n",
    "find their sum."
   ]
  },
  {
   "cell_type": "markdown",
   "id": "b9d152a7-916a-493d-a87c-1372db211b8b",
   "metadata": {},
   "source": [
    "$$v1 + v2 = \\begin{bmatrix} 1 + 2i \\\\ 3 - i \\end{bmatrix} + \\begin{bmatrix} 2 - i \\\\ 4 + 2i \\end{bmatrix}$$\n",
    "$$v1 + v2 = \\begin{bmatrix} (1 + 2i) + (2 - i)\\\\ (3 - i) + (4 + 2i) \\end{bmatrix}$$\n",
    "$$v1 + v2 = \\begin{bmatrix} 3 + i \\\\ 7 + i \\end{bmatrix}$$"
   ]
  },
  {
   "cell_type": "code",
   "execution_count": 24,
   "id": "d2a15f30-ac4a-4197-ad61-588f886175d8",
   "metadata": {},
   "outputs": [
    {
     "name": "stdout",
     "output_type": "stream",
     "text": [
      "[3.+1.j 7.+1.j]\n"
     ]
    }
   ],
   "source": [
    "import numpy as np\n",
    "\n",
    "v1 = np.array([1 + 2j, 3 - 1j])\n",
    "v2 = np.array([2 - 1j, 4 + 2j])\n",
    "resp = v1 + v2\n",
    "\n",
    "print(resp)"
   ]
  },
  {
   "cell_type": "markdown",
   "id": "ce0c07dd-4884-493b-8ea8-749cf01d3d30",
   "metadata": {},
   "source": [
    "### Exercise 2: Negation of a Complex Vector\n",
    "Given a complex vector \n",
    "$ v = \\begin{bmatrix} 2 + 3i \\\\ 1 - 2i \\end{bmatrix} $, \n",
    "find its negation."
   ]
  },
  {
   "cell_type": "markdown",
   "id": "86174f5e-037d-4b27-8618-21a293e8e467",
   "metadata": {},
   "source": [
    "$$ -v = \\begin{bmatrix} -(2 + 3i) \\\\ -(1 - 2i) \\end{bmatrix} $$\n",
    "$$ -v = \\begin{bmatrix} -2 - 3i \\\\ -1 + 2i \\end{bmatrix} $$"
   ]
  },
  {
   "cell_type": "code",
   "execution_count": 26,
   "id": "9a397fd4-01ea-4956-8463-3152b9ebfd0e",
   "metadata": {},
   "outputs": [
    {
     "name": "stdout",
     "output_type": "stream",
     "text": [
      "[-2.-3.j -1.+2.j]\n"
     ]
    }
   ],
   "source": [
    "v = np.array([2 + 3j, 1 - 2j])\n",
    "resp = -v\n",
    "print(resp)"
   ]
  },
  {
   "cell_type": "markdown",
   "id": "19ad1a3e-29fc-4369-8781-d614cf467508",
   "metadata": {},
   "source": [
    "### Exercise 3: Multiplication of a Complex Vector by a Scalar\n",
    "Multiply the complex vector \n",
    "$ v = \\begin{bmatrix} 1 - i \\\\ 2 + 2i \\end{bmatrix} $ \n",
    "by the complex scalar $$ 3 + i $$"
   ]
  },
  {
   "cell_type": "markdown",
   "id": "ad18d129-f043-47ee-aa97-93ed848b7aad",
   "metadata": {},
   "source": [
    "$$(3 + i)v = (3 + i) \\begin{bmatrix} 1 - i \\\\ 2 + 2i \\end{bmatrix} $$\n",
    "$$(3 + i)v = \\begin{bmatrix} (3 + i)(1 - i) \\\\ (3 + i)(2 + 2i) \\end{bmatrix} $$ \n",
    "$$(3 + i)v = \\begin{bmatrix} ((3+1) + (-3+1)i) \\\\ ((6-2) + (6+2)i) \\end{bmatrix} $$ \n",
    "$$(3 + i)v = \\begin{bmatrix} 4 - 2i \\\\ 4 + 8i \\end{bmatrix} $$ "
   ]
  },
  {
   "cell_type": "code",
   "execution_count": 28,
   "id": "5de59201-3fc0-4f7a-b2f5-57998fe33a7e",
   "metadata": {},
   "outputs": [
    {
     "name": "stdout",
     "output_type": "stream",
     "text": [
      "[4.-2.j 4.+8.j]\n"
     ]
    }
   ],
   "source": [
    "v = np.array([1 - 1j, 2 + 2j])\n",
    "escalar = 3 + 1j\n",
    "resp = escalar * v\n",
    "print(resp)"
   ]
  },
  {
   "cell_type": "markdown",
   "id": "b3b15be9-cb4a-49fe-be27-1371aa4039db",
   "metadata": {},
   "source": [
    "### Exercise 4: Transpose of a Complex Vector\n",
    "Find the transpose of the complex vector \n",
    "$ v = \\begin{bmatrix} 2 - i \\\\ 3 + 4i \\end{bmatrix} $."
   ]
  },
  {
   "cell_type": "markdown",
   "id": "249c0ecf-fb57-45eb-b734-5b644a8e9767",
   "metadata": {},
   "source": [
    "$$v^T = \\begin{bmatrix} 2 - i & 3 + 4i \\end{bmatrix}$$\n"
   ]
  },
  {
   "cell_type": "code",
   "execution_count": 34,
   "id": "62b809da-8d77-47a6-a842-9b3fc54879a6",
   "metadata": {},
   "outputs": [
    {
     "name": "stdout",
     "output_type": "stream",
     "text": [
      "[2.-1.j 3.+4.j]\n"
     ]
    }
   ],
   "source": [
    "v = np.array([2 - 1j, 3 + 4j])\n",
    "resp = v.T\n",
    "print(resp)"
   ]
  },
  {
   "cell_type": "markdown",
   "id": "81fee88b-3afd-45d9-8f84-0f09bc3ffdce",
   "metadata": {},
   "source": [
    "### Exercise 5: Conjugate of a Complex Vector\n",
    "Compute the conjugate of the complex vector \n",
    "$ v = \\begin{bmatrix} 1 + i \\\\ 2 - 3i \\end{bmatrix} $."
   ]
  },
  {
   "cell_type": "markdown",
   "id": "6379a43f-613b-4e16-913e-b404db4289b2",
   "metadata": {},
   "source": [
    "$$ \\overline{v} = \\begin{bmatrix} 1 - i \\\\ 2 + 3i \\end{bmatrix} $$"
   ]
  },
  {
   "cell_type": "code",
   "execution_count": 50,
   "id": "c569b108-9ff8-41a2-aeec-f4d308c5a925",
   "metadata": {},
   "outputs": [
    {
     "name": "stdout",
     "output_type": "stream",
     "text": [
      "[1.-1.j 2.+3.j]\n"
     ]
    }
   ],
   "source": [
    "v = np.array([1 + 1j, 2 - 3j])\n",
    "resp = np.conjugate(v)\n",
    "print(resp)"
   ]
  },
  {
   "cell_type": "markdown",
   "id": "67d88a25-b537-4ce6-884a-ba9202ff0579",
   "metadata": {},
   "source": [
    "### Exercise 6: Adjunct (Conjugate Transpose) of a Complex Vector\n",
    "Find the adjunct (or conjugate transpose) of the complex vector \n",
    "$ v = \\begin{bmatrix} 1 - 2i \\\\ 3 + i \\end{bmatrix} $."
   ]
  },
  {
   "cell_type": "markdown",
   "id": "6b852ca0-a57f-4915-bac6-8708769c9c37",
   "metadata": {},
   "source": [
    "$$ \\overline{v} = \\begin{bmatrix} 1 + 2i \\\\ 3 - i \\end{bmatrix} $$\n",
    "$$ v^\\dagger = \\begin{bmatrix} 1 + 2i & 3 - i \\end{bmatrix} $$"
   ]
  },
  {
   "cell_type": "code",
   "execution_count": 54,
   "id": "ad1c4d55-4d7a-44a5-986b-1e9a9221919d",
   "metadata": {},
   "outputs": [
    {
     "name": "stdout",
     "output_type": "stream",
     "text": [
      "[1.+2.j 3.-1.j]\n"
     ]
    }
   ],
   "source": [
    "v = np.array([1 - 2j, 3 + 1j])\n",
    "resp = np.conjugate(v).T\n",
    "print(resp)"
   ]
  },
  {
   "cell_type": "markdown",
   "id": "a657f2a4-96ca-404b-9f30-b981d9b73720",
   "metadata": {},
   "source": [
    "## Complex Square Matrix Operations\n",
    "\n",
    "### Exercise 7: Sum of Two Complex Matrices\n",
    "Given two complex matrices \n",
    "$ m1 = \\begin{bmatrix} 1 + i & 2 - i \\\\ 3 + 2i & 4 \\end{bmatrix} $\n",
    "and \n",
    "$ m2 = \\begin{bmatrix} 2 - 3i & 1 \\\\ i & 2 + 2i \\end{bmatrix} $, \n",
    "calculate their sum."
   ]
  },
  {
   "cell_type": "markdown",
   "id": "1994e5b8-aab6-4cb6-bcdf-283dc7e5a161",
   "metadata": {},
   "source": [
    "$$ m1 + m2 = \\begin{bmatrix} 1 + i & 2 - i \\\\ 3 + 2i & 4 \\end{bmatrix} + \\begin{bmatrix} 2 - 3i & 1 \\\\ i & 2 + 2i \\end{bmatrix} $$\n",
    "$$ m1 + m2 = \\begin{bmatrix} (1 + i) + (2 - 3i) & (2 - i) + 1 \\\\ (3 + 2i) + i & 4 + (2 + 2i)\\end{bmatrix} $$\n",
    "$$ m1 + m2 = \\begin{bmatrix} 3 - 2i & 3 - i\\\\ 3 + 3i & 6 + 2i\\end{bmatrix} $$"
   ]
  },
  {
   "cell_type": "code",
   "execution_count": 59,
   "id": "9449965f-7f07-47c0-9161-a9568fb63b49",
   "metadata": {},
   "outputs": [
    {
     "name": "stdout",
     "output_type": "stream",
     "text": [
      "[[3.-2.j 3.-1.j]\n",
      " [3.+3.j 6.+2.j]]\n"
     ]
    }
   ],
   "source": [
    "m1 = np.array([[1 + 1j, 2 - 1j], [3 + 2j, 4]])\n",
    "m2 = np.array([[2 - 3j, 1], [1j, 2 + 2j]])\n",
    "resp = m1 + m2\n",
    "print(resp)"
   ]
  },
  {
   "cell_type": "markdown",
   "id": "7933da73-33fe-4a2e-89e9-b3e6ea5d3dd6",
   "metadata": {},
   "source": [
    "### Exercise 8: Negation of a Complex Matrix\n",
    "Find the negation of the complex matrix \n",
    "$ m = \\begin{bmatrix} 2 + i & 3 \\\\ 1 - i & 2 + 2i \\end{bmatrix} $."
   ]
  },
  {
   "cell_type": "markdown",
   "id": "8c85e1b2-b098-44b6-958a-a4b9c0e3e935",
   "metadata": {},
   "source": [
    "$$ -m = \\begin{bmatrix} -(2 + i) & -3 \\\\ -(1 - i) & -(2 + 2i) \\end{bmatrix} $$\n",
    "$$ -m = \\begin{bmatrix} -2 - i & -3 \\\\ -1 + i & -2 - 2i \\end{bmatrix} $$"
   ]
  },
  {
   "cell_type": "code",
   "execution_count": 64,
   "id": "ab5ce2a3-be88-484c-9295-9026cbc640c5",
   "metadata": {},
   "outputs": [
    {
     "name": "stdout",
     "output_type": "stream",
     "text": [
      "[[-2.-1.j -3.-0.j]\n",
      " [-1.+1.j -2.-2.j]]\n"
     ]
    }
   ],
   "source": [
    "m = np.array([[2 + 1j, 3], [1 - 1j, 2 + 2j]])\n",
    "resp = -m\n",
    "print(resp)"
   ]
  },
  {
   "cell_type": "markdown",
   "id": "37267489-7af7-47f5-8fdc-2b2d2906f8ac",
   "metadata": {},
   "source": [
    "### Exercise 9: Multiplication of a Complex Matrix by a Scalar\n",
    "Multiply the complex matrix \n",
    "$ m = \\begin{bmatrix} 1 - i & 2 \\\\ 3 + i & 4 - 2i \\end{bmatrix} $ \n",
    "by the complex scalar $$ 2 + 3i $$."
   ]
  },
  {
   "cell_type": "markdown",
   "id": "7fb91a41-f080-4476-95ec-bb85d303897b",
   "metadata": {},
   "source": [
    "$$ (2 + 3i)m = (2 + 3i)\\begin{bmatrix} 1 - i & 2 \\\\ 3 + i & 4 - 2i \\end{bmatrix} $$\n",
    "$$ (2 + 3i)m = \\begin{bmatrix} (2 + 3i)(1 - i) & 2(2 + 3i) \\\\ (2 + 3i)(3 + i) & (2 + 3i)(4 - 2i) \\end{bmatrix} $$\n",
    "$$ (2 + 3i)m = \\begin{bmatrix} 5 + i & 4 + 6i \\\\ 3 + 11i & 14 + 8i \\end{bmatrix} $$"
   ]
  },
  {
   "cell_type": "code",
   "execution_count": 69,
   "id": "9d7e9472-64aa-4cf5-a3bf-827cc5f28df4",
   "metadata": {},
   "outputs": [
    {
     "name": "stdout",
     "output_type": "stream",
     "text": [
      "[[ 5. +1.j  4. +6.j]\n",
      " [ 3.+11.j 14. +8.j]]\n"
     ]
    }
   ],
   "source": [
    "m = np.array([[1 - 1j, 2], [3 + 1j, 4 - 2j]])\n",
    "escalar = 2 + 3j\n",
    "resp = escalar * m\n",
    "print(resp)"
   ]
  },
  {
   "cell_type": "markdown",
   "id": "5c7e607c-c840-49a6-8768-5744f531c854",
   "metadata": {},
   "source": [
    "### Exercise 10: Conjugate of a Complex Matrix\n",
    "Compute the conjugate of the complex matrix \n",
    "$ m = \\begin{bmatrix} 1 + i & 2 \\\\ 3 - i & 4 + 2i \\end{bmatrix} $."
   ]
  },
  {
   "cell_type": "markdown",
   "id": "0d0cd2a7-6950-491d-aabf-67253e441cea",
   "metadata": {},
   "source": [
    "$$ \\overline{m} = \\begin{bmatrix} 1 - i & 2 \\\\ 3 + i & 4 - 2i \\end{bmatrix} $$"
   ]
  },
  {
   "cell_type": "code",
   "execution_count": 74,
   "id": "d4a40295-e101-41c7-8352-1070761101fd",
   "metadata": {},
   "outputs": [
    {
     "name": "stdout",
     "output_type": "stream",
     "text": [
      "[[1.-1.j 2.-0.j]\n",
      " [3.+1.j 4.-2.j]]\n"
     ]
    }
   ],
   "source": [
    "m = np.array([[1 + 1j, 2], [3 - 1j, 4 + 2j]])\n",
    "resp = np.conjugate(m)\n",
    "print(resp)"
   ]
  },
  {
   "cell_type": "markdown",
   "id": "66c2ab89-6fad-4ac8-a0f0-036d746e7df0",
   "metadata": {},
   "source": [
    "### Exercise 11: Transpose of a Complex Matrix\n",
    "Find the transpose of the complex matrix \n",
    "$ m = \\begin{bmatrix} 1 - i & 2 + 2i \\\\ 3 & 4 - i \\end{bmatrix} $."
   ]
  },
  {
   "cell_type": "markdown",
   "id": "35bdd775-56ff-41a3-bdc8-4c1f5607d364",
   "metadata": {},
   "source": [
    "$$ m^T = \\begin{bmatrix} 1 - i & 3 \\\\ 2 + 2i & 4 - i \\end{bmatrix} $$"
   ]
  },
  {
   "cell_type": "code",
   "execution_count": 78,
   "id": "8a964c04-9e41-4b4e-8a94-04d7cd81663a",
   "metadata": {},
   "outputs": [
    {
     "name": "stdout",
     "output_type": "stream",
     "text": [
      "[[1.-1.j 3.+0.j]\n",
      " [2.+2.j 4.-1.j]]\n"
     ]
    }
   ],
   "source": [
    "m = np.array([[1 - 1j, 2 + 2j], [3, 4 - 1j]])\n",
    "resp = m.T\n",
    "print(resp)"
   ]
  },
  {
   "cell_type": "markdown",
   "id": "b7d018bd-32d8-4ca1-9971-3d5b7d399e7d",
   "metadata": {},
   "source": [
    "### Exercise 12: Adjunct (Conjugate Transpose) of a Complex Matrix\n",
    "Calculate the adjunct (or conjugate transpose) of the complex matrix \n",
    "$ m = \\begin{bmatrix} 1 + 2i & 3 - i \\\\ 4 & 5 + i \\end{bmatrix} $."
   ]
  },
  {
   "cell_type": "markdown",
   "id": "19026c90-ae58-498d-b87c-ea14bbe9fdf7",
   "metadata": {},
   "source": [
    "$$ \\overline{m} = \\begin{bmatrix} 1 - 2i & 3 + i \\\\ 4 & 5 - i \\end{bmatrix} $$\n",
    "$$ m^\\dagger = \\begin{bmatrix} 1 - 2i & 4 \\\\ 3 + i & 5 - i \\end{bmatrix} $$"
   ]
  },
  {
   "cell_type": "code",
   "execution_count": 83,
   "id": "662ffaa1-fb58-4586-9709-4f9b3860a173",
   "metadata": {},
   "outputs": [
    {
     "name": "stdout",
     "output_type": "stream",
     "text": [
      "[[1.-2.j 4.-0.j]\n",
      " [3.+1.j 5.-1.j]]\n"
     ]
    }
   ],
   "source": [
    "m = np.array([[1 + 2j, 3 - 1j], [4, 5 + 1j]])\n",
    "resp = np.conjugate(m).T\n",
    "print(resp)"
   ]
  },
  {
   "cell_type": "markdown",
   "id": "36cd3bb0-83a3-4b72-8514-28040a6d675a",
   "metadata": {},
   "source": [
    "### Exercise 13: Checking the Dimensions of a Matrix\n",
    "Determine the dimensions of the complex matrix \n",
    "$ m = \\begin{bmatrix} 1 - i & 2 \\\\ 3 + 2i & 4 - i \\end{bmatrix} $."
   ]
  },
  {
   "cell_type": "markdown",
   "id": "95d68032-6002-4dc7-bd59-a2430e2d1660",
   "metadata": {},
   "source": [
    "$$Dimensiones = 2 \\times 2 $$"
   ]
  },
  {
   "cell_type": "code",
   "execution_count": 88,
   "id": "69b2c3ab-1a85-4209-8379-130480ce9df9",
   "metadata": {},
   "outputs": [
    {
     "name": "stdout",
     "output_type": "stream",
     "text": [
      "(2, 2)\n"
     ]
    }
   ],
   "source": [
    "m = np.array([[1 - 1j, 2], [3 + 2j, 4 - 1j]])\n",
    "resp = m.shape\n",
    "print(resp)"
   ]
  },
  {
   "cell_type": "markdown",
   "id": "708fbdee-d1f3-4cc1-af56-28dcff5ce7a1",
   "metadata": {},
   "source": [
    "## Multiplication of Matrices and Vectors\n",
    "\n",
    "### Exercise 14: Multiplying a Complex Square Matrix by a Complex Column Vector\n",
    "Multiply the complex square matrix \n",
    "$ m = \\begin{bmatrix} 1 + i & 2 - i \\\\ 3 & 4 + i \\end{bmatrix} $ \n",
    "by the complex column vector \n",
    "$ v = \\begin{bmatrix} 2 - i \\\\ 1 + 3i \\end{bmatrix} $."
   ]
  },
  {
   "cell_type": "markdown",
   "id": "5adf9d8a-af43-4074-ab1a-3cabdc4accff",
   "metadata": {},
   "source": [
    "$$ m \\times v = \\begin{bmatrix} 1 + i & 2 - i \\\\ 3 & 4 + i \\end{bmatrix} \\times \\begin{bmatrix} 2 - i \\\\ 1 + 3i \\end{bmatrix} $$\n",
    "$$ m \\times v = \\begin{bmatrix} (1 + i)(2 - i) + (2 - i)(1 + 3i)\\\\ 3(2 - i) + (4 + i)(1 + 3i) \\end{bmatrix} $$\n",
    "$$ m \\times v = \\begin{bmatrix} (3 + i) + (5 + 5i)\\\\ (6 - 3i) + (1 + 13i) \\end{bmatrix} $$\n",
    "$$ m \\times v = \\begin{bmatrix} 8 + 6i \\\\ 7 + 10i \\end{bmatrix} $$"
   ]
  },
  {
   "cell_type": "code",
   "execution_count": 95,
   "id": "12949876-03e8-4f25-b566-517ed35ac1e1",
   "metadata": {},
   "outputs": [
    {
     "name": "stdout",
     "output_type": "stream",
     "text": [
      "[8. +6.j 7.+10.j]\n"
     ]
    }
   ],
   "source": [
    "m = np.array([[1 + 1j, 2 - 1j], [3, 4 + 1j]])\n",
    "v = np.array([2 - 1j, 1 + 3j])\n",
    "resp = np.dot(m, v)\n",
    "print(resp)"
   ]
  }
 ],
 "metadata": {
  "kernelspec": {
   "display_name": "Python 3 (ipykernel)",
   "language": "python",
   "name": "python3"
  },
  "language_info": {
   "codemirror_mode": {
    "name": "ipython",
    "version": 3
   },
   "file_extension": ".py",
   "mimetype": "text/x-python",
   "name": "python",
   "nbconvert_exporter": "python",
   "pygments_lexer": "ipython3",
   "version": "3.12.4"
  }
 },
 "nbformat": 4,
 "nbformat_minor": 5
}
